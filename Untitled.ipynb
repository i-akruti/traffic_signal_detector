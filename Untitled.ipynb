{
 "cells": [
  {
   "cell_type": "code",
   "execution_count": 35,
   "id": "34377a8e",
   "metadata": {},
   "outputs": [],
   "source": [
    "import os\n",
    "import cv2\n",
    "import numpy as np"
   ]
  },
  {
   "cell_type": "code",
   "execution_count": 36,
   "id": "a11d3011",
   "metadata": {},
   "outputs": [],
   "source": [
    "def segment_traffic_light(image):\n",
    "    h, w = image.shape\n",
    "    _, thresh = cv2.threshold(crop_contour, 120, 255, cv2.THRESH_BINARY)\n",
    "    top = thresh[0:(h//3), 0:w]\n",
    "    mid = thresh[h//3:(2*h)//3, 0:w]\n",
    "    bottom = thresh[(2*h)//3:h, 0:w]\n",
    "    return top, mid, bottom"
   ]
  },
  {
   "cell_type": "code",
   "execution_count": 37,
   "id": "e0cfe020",
   "metadata": {},
   "outputs": [],
   "source": [
    "def percent_of_illumination(crop_contour):\n",
    "    _, thresh = cv2.threshold(crop_contour, 200, 255, cv2.THRESH_BINARY)\n",
    "    whitepixels = cv2.countNonZero(thresh)\n",
    "    h, w = crop_contour.shape\n",
    "    totalpixel = h * w\n",
    "    return (whitepixels/totalpixel)*100"
   ]
  },
  {
   "cell_type": "code",
   "execution_count": 38,
   "id": "f2d2b373",
   "metadata": {},
   "outputs": [],
   "source": [
    "def find_traffic_colour(image):\n",
    "    traffic_colour = \"not found\"\n",
    "    top, mid, bottom = segment_traffic_light(image)\n",
    "    top_white = cv2.countNonZero(top)\n",
    "    mid_white = cv2.countNonZero(mid)\n",
    "    bottom_white = cv2.countNonZero(bottom)\n",
    "    pos_white = np.argmax([top_white, mid_white, bottom_white])\n",
    "    if pos_white == 0:\n",
    "        traffic_colour = \"amber\"\n",
    "    elif pos_white == 1:\n",
    "        traffic_colour = \"yellow\"\n",
    "    elif pos_white == 2:\n",
    "        traffic_colour = \"green\"\n",
    "    \n",
    "    return traffic_colour     "
   ]
  },
  {
   "cell_type": "code",
   "execution_count": 47,
   "id": "5128dd5e",
   "metadata": {},
   "outputs": [
    {
     "name": "stdout",
     "output_type": "stream",
     "text": [
      "The colour of the traffic is :  yellow\n",
      "The colour of the traffic is :  yellow\n",
      "The colour of the traffic is :  green\n",
      "The colour of the traffic is :  amber\n",
      "The colour of the traffic is :  yellow\n",
      "The colour of the traffic is :  amber\n",
      "The colour of the traffic is :  green\n"
     ]
    }
   ],
   "source": [
    "folder_dir = \"images\"\n",
    "for img_path in os.listdir(folder_dir):\n",
    "    img = cv2.imread(os.path.join(folder_dir,img_path))\n",
    "    result_img = img.copy()\n",
    "    gray_img = cv2.cvtColor(img, cv2.COLOR_BGR2GRAY)\n",
    "    blur_img = cv2.blur(gray_img, (150, 150))\n",
    "    ret, thresh = cv2.threshold(gray_img, 120, 255, cv2.THRESH_BINARY)\n",
    "    kernel = np.ones((2,2), np.uint8)\n",
    "    dilation = cv2.dilate(thresh, kernel)\n",
    "    cnts = cv2.findContours(dilation, cv2.RETR_EXTERNAL, cv2.CHAIN_APPROX_SIMPLE)\n",
    "    cnts = cnts[0] if len(cnts) == 2 else cnts[1]\n",
    "    for c in cnts:\n",
    "        x,y,w,h = cv2.boundingRect(c)\n",
    "        crop_contour = gray_img[y:y+h, x:x+w]\n",
    "        illumination_per = percent_of_illumination(crop_contour)\n",
    "        if 400 <= cv2.contourArea(c) <= 500:\n",
    "            traffic_colour = find_traffic_colour(crop_contour)\n",
    "            cv2.rectangle(result_img, (x,y), (x+w, y+h), (36, 255, 12), 3)\n",
    "            cv2.putText(result_img, traffic_colour, (x, y-10), cv2.FONT_HERSHEY_SIMPLEX, 0.9, (36,255,12), 2)\n",
    "            print(\"The colour of the traffic is : \", traffic_colour)\n",
    "            new_imgpath = img_path.split(\".\")[0] + \"result\" + \".jpg\"  \n",
    "            cv2.imwrite(os.path.join(folder_dir,new_imgpath), result_img)\n"
   ]
  },
  {
   "cell_type": "code",
   "execution_count": null,
   "id": "01a97dc6",
   "metadata": {},
   "outputs": [],
   "source": []
  }
 ],
 "metadata": {
  "kernelspec": {
   "display_name": "Python 3 (ipykernel)",
   "language": "python",
   "name": "python3"
  },
  "language_info": {
   "codemirror_mode": {
    "name": "ipython",
    "version": 3
   },
   "file_extension": ".py",
   "mimetype": "text/x-python",
   "name": "python",
   "nbconvert_exporter": "python",
   "pygments_lexer": "ipython3",
   "version": "3.8.10"
  }
 },
 "nbformat": 4,
 "nbformat_minor": 5
}
